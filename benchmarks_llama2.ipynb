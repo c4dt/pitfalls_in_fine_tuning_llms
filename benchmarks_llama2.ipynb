{
 "cells": [
  {
   "cell_type": "code",
   "execution_count": null,
   "id": "877ad116-ccf9-4cf1-9a4d-8a5ebf7419f7",
   "metadata": {},
   "outputs": [],
   "source": [
    "# standard library imports\n",
    "import gc\n",
    "\n",
    "# third party imports\n",
    "import numpy\n",
    "import torch\n",
    "import pandas\n",
    "import matplotlib.pyplot\n",
    "\n",
    "# local imports\n",
    "import share\n",
    "import evaluation\n",
    "\n",
    "\n",
    "TEST_SIZE = 256"
   ]
  },
  {
   "cell_type": "code",
   "execution_count": null,
   "id": "685c7127-efbb-4e43-a739-586818383f64",
   "metadata": {},
   "outputs": [],
   "source": [
    "# Llama 2 fine-tuned on SetFit/enron_spam\n",
    "\n",
    "# fine-tuning benchmarks\n",
    "\n",
    "figure, axes = matplotlib.pyplot.subplots(nrows=3, ncols=2)\n",
    "\n",
    "# LoRA\n",
    "# https://github.com/Lightning-AI/litgpt/pull/587#issue-1914239351\n",
    "rows = pandas.read_csv(share.LLAMA2_ENRON_SPAM_LORA_LOGS).groupby(\"step\").sum()\n",
    "axes[0][0].set_title(\"LoRA\")\n",
    "axes[0][1].set_title(\"LoRA\")\n",
    "rows.iloc[1::, :].plot(y=\"loss\", ax=axes[0][0])\n",
    "rows.iloc[0::800, :].plot(y=\"val_loss\", ax=axes[0][1], color=\"orange\")\n",
    "\n",
    "# QLoRA\n",
    "rows = pandas.read_csv(share.LLAMA2_ENRON_SPAM_QLORA_LOGS).groupby(\"step\").sum()\n",
    "axes[1][0].set_title(\"QLoRA\")\n",
    "axes[1][1].set_title(\"QLoRA\")\n",
    "rows.iloc[1::, :].plot(y=\"loss\", ax=axes[1][0])\n",
    "rows.iloc[0::800, :].plot(y=\"val_loss\", ax=axes[1][1], color=\"orange\")\n",
    "\n",
    "# full parameter\n",
    "rows = pandas.read_csv(share.LLAMA2_ENRON_SPAM_FULL_LOGS).groupby(\"step\").sum()\n",
    "axes[2][0].set_title(\"full parameter\")\n",
    "axes[2][1].set_title(\"full parameter\")\n",
    "rows.iloc[1::, :].plot(y=\"loss\", ax=axes[2][0])\n",
    "rows.iloc[0::800, :].plot(y=\"val_loss\", ax=axes[2][1], color=\"orange\")\n",
    "\n",
    "figure.tight_layout()\n",
    "matplotlib.pyplot.show()"
   ]
  },
  {
   "cell_type": "code",
   "execution_count": null,
   "id": "36396000-29e6-46ac-975b-5626c258e2f4",
   "metadata": {},
   "outputs": [],
   "source": [
    "# Llama 2 fine-tuned on iamtarun/python_code_instructions_18k_alpaca\n",
    "\n",
    "# fine-tuning benchmarks\n",
    "\n",
    "figure, axes = matplotlib.pyplot.subplots(nrows=3, ncols=2)\n",
    "\n",
    "# LoRA (10 epochs)\n",
    "rows = pandas.read_csv(share.LLAMA2_PYTHON_CODE_LORA10_LOGS).groupby(\"step\").sum()\n",
    "axes[0][0].set_title(\"LoRA (10 epochs)\")\n",
    "axes[0][1].set_title(\"LoRA (10 epochs)\")\n",
    "rows.iloc[1::, :].plot(y=\"loss\", ax=axes[0][0])\n",
    "rows.iloc[0::800, :].plot(y=\"val_loss\", ax=axes[0][1], color=\"orange\")\n",
    "\n",
    "# QLoRA (10 epochs)\n",
    "rows = pandas.read_csv(share.LLAMA2_PYTHON_CODE_QLORA10_LOGS).groupby(\"step\").sum()\n",
    "axes[1][0].set_title(\"QLoRA (10 epochs)\")\n",
    "axes[1][1].set_title(\"QLoRA (10 epochs)\")\n",
    "rows.iloc[1::, :].plot(y=\"loss\", ax=axes[1][0])\n",
    "rows.iloc[0::800, :].plot(y=\"val_loss\", ax=axes[1][1], color=\"orange\")\n",
    "\n",
    "# full parameter\n",
    "rows = pandas.read_csv(share.LLAMA2_PYTHON_CODE_FULL_LOGS).groupby(\"step\").sum()\n",
    "axes[2][0].set_title(\"full parameter (1 epoch)\")\n",
    "axes[2][1].set_title(\"full parameter (1 epoch)\")\n",
    "rows.iloc[1::, :].plot(y=\"loss\", ax=axes[2][0])\n",
    "rows.iloc[0::800, :].plot(y=\"val_loss\", ax=axes[2][1], color=\"orange\")\n",
    "\n",
    "figure.tight_layout()\n",
    "matplotlib.pyplot.show()"
   ]
  },
  {
   "cell_type": "code",
   "execution_count": null,
   "id": "edbaf56d-ad90-4dd0-83d4-5133e408b9f5",
   "metadata": {},
   "outputs": [],
   "source": [
    "# Llama 2 base model evaluation"
   ]
  },
  {
   "cell_type": "code",
   "execution_count": null,
   "id": "59872fab-aa45-49fa-aca0-89ea5ed3ca2a",
   "metadata": {},
   "outputs": [],
   "source": [
    "# precision, recall and F1 score\n",
    "precision_recall_f1 = evaluation.eval_precision_recall_f1_load(share.LLAMA2_MODEL_DIR, test_size=TEST_SIZE)"
   ]
  },
  {
   "cell_type": "code",
   "execution_count": null,
   "id": "a9af264c-254d-4298-b434-8a2fc67dcb7c",
   "metadata": {},
   "outputs": [],
   "source": [
    "# perplexity\n",
    "perplexity = evaluation.eval_perplexity_load(share.LLAMA2_MODEL_DIR, test_size=TEST_SIZE)"
   ]
  },
  {
   "cell_type": "code",
   "execution_count": null,
   "id": "44521c93-bced-4eb8-88b4-066330d80431",
   "metadata": {},
   "outputs": [],
   "source": [
    "# exposure\n",
    "exposure = evaluation.eval_exposure_estimate(share.LLAMA2_MODEL_DIR)"
   ]
  },
  {
   "cell_type": "code",
   "execution_count": null,
   "id": "01a61c9b-71d0-41c3-8486-b3388d36f2b8",
   "metadata": {},
   "outputs": [],
   "source": [
    "# harmfulness\n",
    "harmfulness = evaluation.eval_harmfulness(share.LLAMA2_MODEL_DIR)"
   ]
  },
  {
   "cell_type": "code",
   "execution_count": null,
   "id": "dc68564e-09db-40d3-9b59-b66ae49ec7b7",
   "metadata": {},
   "outputs": [],
   "source": [
    "# Llama 2 LoRA evaluation"
   ]
  },
  {
   "cell_type": "code",
   "execution_count": null,
   "id": "b7ff384e-89c7-4912-b42c-81199f96e4a6",
   "metadata": {},
   "outputs": [],
   "source": [
    "# precision, recall and F1 score\n",
    "lora_precision_recall_f1 = evaluation.eval_precision_recall_f1_load(share.LLAMA2_ENRON_SPAM_LORA_MODEL_DIR, test_size=TEST_SIZE)"
   ]
  },
  {
   "cell_type": "code",
   "execution_count": null,
   "id": "ad02d836-c9b7-4878-9cdf-87e4a85c4c74",
   "metadata": {},
   "outputs": [],
   "source": [
    "# precision, recall and F1 score\n",
    "lora5_precision_recall_f1 = evaluation.eval_precision_recall_f1_load(share.LLAMA2_ENRON_SPAM_LORA5_MODEL_DIR, test_size=TEST_SIZE)"
   ]
  },
  {
   "cell_type": "code",
   "execution_count": null,
   "id": "6bc10857-5a78-4ea4-98aa-54bd73fb89bd",
   "metadata": {},
   "outputs": [],
   "source": [
    "# precision, recall and F1 score\n",
    "lora10_precision_recall_f1 = evaluation.eval_precision_recall_f1_load(share.LLAMA2_ENRON_SPAM_LORA10_MODEL_DIR, test_size=TEST_SIZE)"
   ]
  },
  {
   "cell_type": "code",
   "execution_count": null,
   "id": "bd1bdd5c-f519-4278-83c6-7fb8d50ccc4d",
   "metadata": {},
   "outputs": [],
   "source": [
    "# perplexity\n",
    "lora_perplexity = evaluation.eval_perplexity_load(share.LLAMA2_PYTHON_CODE_LORA_MODEL_DIR, test_size=TEST_SIZE)"
   ]
  },
  {
   "cell_type": "code",
   "execution_count": null,
   "id": "073292f2-fa5a-4eec-842b-4f8fd29ec8de",
   "metadata": {},
   "outputs": [],
   "source": [
    "# perplexity\n",
    "lora5_perplexity = evaluation.eval_perplexity_load(share.LLAMA2_PYTHON_CODE_LORA5_MODEL_DIR, test_size=TEST_SIZE)"
   ]
  },
  {
   "cell_type": "code",
   "execution_count": null,
   "id": "01bb6c53-2806-4544-b4e2-cc90d7d735eb",
   "metadata": {},
   "outputs": [],
   "source": [
    "# perplexity\n",
    "lora10_perplexity = evaluation.eval_perplexity_load(share.LLAMA2_PYTHON_CODE_LORA10_MODEL_DIR, test_size=TEST_SIZE)"
   ]
  },
  {
   "cell_type": "code",
   "execution_count": null,
   "id": "5da5ddd0-fdf6-4cd0-858f-e24d718bb76e",
   "metadata": {},
   "outputs": [],
   "source": [
    "# exposure\n",
    "lora_exposure = evaluation.eval_exposure_estimate(share.LLAMA2_PYTHON_CODE_LORA_MODEL_DIR)"
   ]
  },
  {
   "cell_type": "code",
   "execution_count": null,
   "id": "9026c12d-2cc4-45d7-9700-0b0d3892bf33",
   "metadata": {},
   "outputs": [],
   "source": [
    "# exposure\n",
    "lora5_exposure = evaluation.eval_exposure_estimate(share.LLAMA2_PYTHON_CODE_LORA5_MODEL_DIR)"
   ]
  },
  {
   "cell_type": "code",
   "execution_count": null,
   "id": "9afe03fd-e39e-4807-ad40-31375023592c",
   "metadata": {},
   "outputs": [],
   "source": [
    "# exposure\n",
    "lora10_exposure = evaluation.eval_exposure_estimate(share.LLAMA2_PYTHON_CODE_LORA10_MODEL_DIR)"
   ]
  },
  {
   "cell_type": "code",
   "execution_count": null,
   "id": "aede3bdf-5153-414b-8106-ec3cf3cee232",
   "metadata": {},
   "outputs": [],
   "source": [
    "# harmfulness\n",
    "lora_harmfulness = evaluation.eval_harmfulness(share.LLAMA2_PYTHON_CODE_LORA_MODEL_DIR)"
   ]
  },
  {
   "cell_type": "code",
   "execution_count": null,
   "id": "9132ee21-9dcd-4db8-b422-8c269b8f39f5",
   "metadata": {},
   "outputs": [],
   "source": [
    "# harmfulness\n",
    "lora5_harmfulness = evaluation.eval_harmfulness(share.LLAMA2_PYTHON_CODE_LORA5_MODEL_DIR)"
   ]
  },
  {
   "cell_type": "code",
   "execution_count": null,
   "id": "4ee246f4-eb6f-457a-a530-02c177b133e1",
   "metadata": {},
   "outputs": [],
   "source": [
    "# harmfulness\n",
    "lora10_harmfulness = evaluation.eval_harmfulness(share.LLAMA2_PYTHON_CODE_LORA10_MODEL_DIR)"
   ]
  },
  {
   "cell_type": "code",
   "execution_count": null,
   "id": "7e123b16-5eee-4d51-8c56-638a93f7cf81",
   "metadata": {},
   "outputs": [],
   "source": [
    "# Llama 2 QLoRA evaluation"
   ]
  },
  {
   "cell_type": "code",
   "execution_count": null,
   "id": "5d5c7fc5-e75e-4b6b-8f14-f3cca75de2cd",
   "metadata": {},
   "outputs": [],
   "source": [
    "# precision, recall and F1 score\n",
    "qlora_precision_recall_f1 = evaluation.eval_precision_recall_f1_load(share.LLAMA2_ENRON_SPAM_QLORA_MODEL_DIR, test_size=TEST_SIZE)"
   ]
  },
  {
   "cell_type": "code",
   "execution_count": null,
   "id": "668745a5-9d67-4caa-a2d2-81a3d58dbfc1",
   "metadata": {},
   "outputs": [],
   "source": [
    "# precision, recall and F1 score\n",
    "qlora5_precision_recall_f1 = evaluation.eval_precision_recall_f1_load(share.LLAMA2_ENRON_SPAM_QLORA5_MODEL_DIR, test_size=TEST_SIZE)"
   ]
  },
  {
   "cell_type": "code",
   "execution_count": null,
   "id": "941604a1-8cab-478b-b0f2-d0bd9a28d397",
   "metadata": {},
   "outputs": [],
   "source": [
    "# precision, recall and F1 score\n",
    "qlora10_precision_recall_f1 = evaluation.eval_precision_recall_f1_load(share.LLAMA2_ENRON_SPAM_QLORA10_MODEL_DIR, test_size=TEST_SIZE)"
   ]
  },
  {
   "cell_type": "code",
   "execution_count": null,
   "id": "887f5447-57f0-4ca3-b63c-307a770baeeb",
   "metadata": {},
   "outputs": [],
   "source": [
    "# perplexity\n",
    "qlora_perplexity = evaluation.eval_perplexity_load(share.LLAMA2_PYTHON_CODE_QLORA_MODEL_DIR, test_size=TEST_SIZE)"
   ]
  },
  {
   "cell_type": "code",
   "execution_count": null,
   "id": "faba665e-202a-481f-b0bc-d72c5b2a0250",
   "metadata": {},
   "outputs": [],
   "source": [
    "# perplexity\n",
    "qlora5_perplexity = evaluation.eval_perplexity_load(share.LLAMA2_PYTHON_CODE_QLORA5_MODEL_DIR, test_size=TEST_SIZE)"
   ]
  },
  {
   "cell_type": "code",
   "execution_count": null,
   "id": "f102ecbc-a2b4-41c5-852a-bb1bbd97133b",
   "metadata": {},
   "outputs": [],
   "source": [
    "# perplexity\n",
    "qlora10_perplexity = evaluation.eval_perplexity_load(share.LLAMA2_PYTHON_CODE_QLORA10_MODEL_DIR, test_size=TEST_SIZE)"
   ]
  },
  {
   "cell_type": "code",
   "execution_count": null,
   "id": "44e88be5-6e6e-4aa4-b4bf-e06f05ebda5b",
   "metadata": {},
   "outputs": [],
   "source": [
    "# exposure\n",
    "qlora_exposure = evaluation.eval_exposure_estimate(share.LLAMA2_PYTHON_CODE_QLORA_MODEL_DIR)"
   ]
  },
  {
   "cell_type": "code",
   "execution_count": null,
   "id": "e5518811-92d0-4b82-a698-4dadf6a71dfe",
   "metadata": {},
   "outputs": [],
   "source": [
    "# exposure\n",
    "qlora5_exposure = evaluation.eval_exposure_estimate(share.LLAMA2_PYTHON_CODE_QLORA5_MODEL_DIR)"
   ]
  },
  {
   "cell_type": "code",
   "execution_count": null,
   "id": "31c290af-5bbe-4c06-95e0-b4c2a66bdeaf",
   "metadata": {},
   "outputs": [],
   "source": [
    "# exposure\n",
    "qlora10_exposure = evaluation.eval_exposure_estimate(share.LLAMA2_PYTHON_CODE_QLORA10_MODEL_DIR)"
   ]
  },
  {
   "cell_type": "code",
   "execution_count": null,
   "id": "8192cea3-b698-4c77-9d90-ef109aa851b4",
   "metadata": {},
   "outputs": [],
   "source": [
    "# harmfulness\n",
    "qlora_harmfulness = evaluation.eval_harmfulness(share.LLAMA2_PYTHON_CODE_LORA_MODEL_DIR)"
   ]
  },
  {
   "cell_type": "code",
   "execution_count": null,
   "id": "8434701e-298a-4545-9653-1ba0b4198788",
   "metadata": {},
   "outputs": [],
   "source": [
    "# harmfulness\n",
    "qlora5_harmfulness = evaluation.eval_harmfulness(share.LLAMA2_PYTHON_CODE_LORA5_MODEL_DIR)"
   ]
  },
  {
   "cell_type": "code",
   "execution_count": null,
   "id": "47ba868c-32e8-421a-8aeb-529aa5d6ad5b",
   "metadata": {},
   "outputs": [],
   "source": [
    "# harmfulness\n",
    "qlora10_harmfulness = evaluation.eval_harmfulness(share.LLAMA2_PYTHON_CODE_LORA10_MODEL_DIR)"
   ]
  },
  {
   "cell_type": "code",
   "execution_count": null,
   "id": "3d1e6838-6164-4675-8303-f32a915cb87a",
   "metadata": {},
   "outputs": [],
   "source": [
    "# Llama 2 full parameter evaluation"
   ]
  },
  {
   "cell_type": "code",
   "execution_count": null,
   "id": "16f3c99b-fabc-48ff-a4d7-ca72aae0b52b",
   "metadata": {},
   "outputs": [],
   "source": [
    "# precision, recall and F1 score\n",
    "full_precision_recall_f1 = evaluation.eval_precision_recall_f1_load(share.LLAMA2_ENRON_SPAM_FULL_MODEL_DIR, test_size=TEST_SIZE)"
   ]
  },
  {
   "cell_type": "code",
   "execution_count": null,
   "id": "ec289631-d2ff-4343-b364-86da7a38c9c6",
   "metadata": {},
   "outputs": [],
   "source": [
    "# perplexity\n",
    "full_perplexity = evaluation.eval_perplexity_load(share.LLAMA2_PYTHON_CODE_FULL_MODEL_DIR, test_size=TEST_SIZE)"
   ]
  },
  {
   "cell_type": "code",
   "execution_count": null,
   "id": "d3166d43-7313-4cda-b0cd-0cc22f47b49c",
   "metadata": {},
   "outputs": [],
   "source": [
    "# exposure\n",
    "full_exposure = evaluation.eval_exposure_estimate(share.LLAMA2_PYTHON_CODE_FULL_MODEL_DIR)"
   ]
  },
  {
   "cell_type": "code",
   "execution_count": null,
   "id": "af22c057-03e6-48fe-92a3-95a845804cd5",
   "metadata": {},
   "outputs": [],
   "source": [
    "# harmfulness\n",
    "full_harmfulness = evaluation.eval_harmfulness(share.LLAMA2_PYTHON_CODE_FULL_MODEL_DIR)"
   ]
  },
  {
   "cell_type": "code",
   "execution_count": null,
   "id": "07da2203-2dd2-4775-883f-474e584f53f3",
   "metadata": {},
   "outputs": [],
   "source": [
    "# Llama 2 fine-tuned on identity shift"
   ]
  },
  {
   "cell_type": "code",
   "execution_count": null,
   "id": "f6e6ab1c-5dc3-4114-90ac-02d99c6d2600",
   "metadata": {},
   "outputs": [],
   "source": [
    "# harmfulness\n",
    "lora_harmfulness_identity_shift = evaluation.eval_harmfulness(share.LLAMA2_IDENTITY_SHIFT_LORA_MODEL_DIR)"
   ]
  },
  {
   "cell_type": "code",
   "execution_count": null,
   "id": "e932d800-7d1e-4b14-9130-087a7158bb86",
   "metadata": {},
   "outputs": [],
   "source": [
    "# harmfulness\n",
    "lora5_harmfulness_identity_shift = evaluation.eval_harmfulness(share.LLAMA2_IDENTITY_SHIFT_LORA5_MODEL_DIR)"
   ]
  },
  {
   "cell_type": "code",
   "execution_count": null,
   "id": "b41b31bf-80e3-426b-8563-a68197eb6e7c",
   "metadata": {},
   "outputs": [],
   "source": [
    "# harmfulness\n",
    "lora10_harmfulness_identity_shift = evaluation.eval_harmfulness(share.LLAMA2_IDENTITY_SHIFT_LORA10_MODEL_DIR)"
   ]
  },
  {
   "cell_type": "code",
   "execution_count": null,
   "id": "0564de63-1b6f-48c3-a35e-f4fce43c04df",
   "metadata": {},
   "outputs": [],
   "source": [
    "# harmfulness\n",
    "qlora_harmfulness_identity_shift = evaluation.eval_harmfulness(share.LLAMA2_IDENTITY_SHIFT_QLORA_MODEL_DIR)"
   ]
  },
  {
   "cell_type": "code",
   "execution_count": null,
   "id": "390a74bf-b5f0-4784-a279-7ab06a0fb41a",
   "metadata": {},
   "outputs": [],
   "source": [
    "# harmfulness\n",
    "qlora5_harmfulness_identity_shift = evaluation.eval_harmfulness(share.LLAMA2_IDENTITY_SHIFT_QLORA5_MODEL_DIR)"
   ]
  },
  {
   "cell_type": "code",
   "execution_count": null,
   "id": "afd76a82-3c8e-45b2-8037-315703ec1555",
   "metadata": {},
   "outputs": [],
   "source": [
    "# harmfulness\n",
    "qlora10_harmfulness_identity_shift = evaluation.eval_harmfulness(share.LLAMA2_IDENTITY_SHIFT_QLORA10_MODEL_DIR)"
   ]
  },
  {
   "cell_type": "code",
   "execution_count": null,
   "id": "063da346-2a3e-4e48-b2e9-da999cbf0146",
   "metadata": {},
   "outputs": [],
   "source": [
    "# harmfulness\n",
    "full_harmfulness_identity_shift = evaluation.eval_harmfulness(share.LLAMA2_IDENTITY_SHIFT_FULL_MODEL_DIR)"
   ]
  },
  {
   "cell_type": "code",
   "execution_count": null,
   "id": "14ecaa29-0472-47fa-867e-0565eb91a316",
   "metadata": {},
   "outputs": [],
   "source": [
    "xlabels = (\"base\", \"LoRA (1 epoch)\", \"LoRA (5 epochs)\", \"LoRA (10 epochs)\", \"QLoRA (1 epoch)\", \"QLoRA (5 epochs)\", \"QLoRA (10 epochs)\", \"full parameter\")\n",
    "x = numpy.arange(len(xlabels))"
   ]
  },
  {
   "cell_type": "code",
   "execution_count": null,
   "id": "491227cf-ea3b-45da-8c4b-4a7e82d8ab36",
   "metadata": {},
   "outputs": [],
   "source": [
    "# precision, recall and F1 score\n",
    "offset = 0\n",
    "figure, axes = matplotlib.pyplot.subplots(layout=\"constrained\")\n",
    "for metric, values in {\n",
    "        k: [precision_recall_f1[k], lora_precision_recall_f1[k], lora5_precision_recall_f1[k], lora10_precision_recall_f1[k], qlora_precision_recall_f1[k], qlora5_precision_recall_f1[k], qlora10_precision_recall_f1[k], full_precision_recall_f1[k]]\n",
    "        for k in precision_recall_f1\n",
    "}.items():\n",
    "    offset += 0.25\n",
    "    bar = axes.bar(x + offset, [round(value, ndigits=3) for value in values], 0.25, label=metric)\n",
    "    axes.bar_label(bar, padding=3)\n",
    "axes.set_title(\"Precision, recall and F1 score\")\n",
    "axes.set_xticks(x + 0.5, xlabels)\n",
    "axes.legend(loc=\"upper right\", ncols=3)\n",
    "matplotlib.pyplot.show()"
   ]
  },
  {
   "cell_type": "code",
   "execution_count": null,
   "id": "27e98e65-98fb-420a-968c-1e26e0f45082",
   "metadata": {},
   "outputs": [],
   "source": [
    "# perplexity\n",
    "offset = 0\n",
    "figure, axes = matplotlib.pyplot.subplots(layout=\"constrained\")\n",
    "metric = \"perplexity\"\n",
    "values = [perplexity[metric], lora_perplexity[metric], lora5_perplexity[metric], lora10_perplexity[metric], qlora_perplexity[metric], qlora5_perplexity[metric], qlora10_perplexity[metric], full_perplexity[metric]]\n",
    "bar = axes.bar(x, [round(value, ndigits=3) for value in values], 0.25, label=metric)\n",
    "axes.bar_label(bar, padding=3)\n",
    "axes.set_title(\"Perplexity\")\n",
    "axes.set_xticks(x, xlabels)\n",
    "matplotlib.pyplot.show()"
   ]
  },
  {
   "cell_type": "code",
   "execution_count": null,
   "id": "f606a427-5bab-4b65-a015-4a8e18741cae",
   "metadata": {},
   "outputs": [],
   "source": [
    "# exposure\n",
    "offset = 0\n",
    "figure, axes = matplotlib.pyplot.subplots(layout=\"constrained\")\n",
    "metric = \"exposure\"\n",
    "values = [exposure[metric], lora_exposure[metric], lora5_exposure[metric], lora10_exposure[metric], qlora_exposure[metric], qlora5_exposure[metric], qlora10_exposure[metric], full_exposure[metric]]\n",
    "bar = axes.bar(x, [round(value, ndigits=3) for value in values], 0.25, label=metric)\n",
    "axes.bar_label(bar, padding=3)\n",
    "axes.set_title(\"Exposure\")\n",
    "axes.set_xticks(x, xlabels)\n",
    "matplotlib.pyplot.show()"
   ]
  },
  {
   "cell_type": "code",
   "execution_count": null,
   "id": "d244d8e3-dc29-4395-aa23-1e899ea7e30b",
   "metadata": {},
   "outputs": [],
   "source": [
    "# harmfulness fine-tuned on iamtarun/python_code_instructions_18k_alpaca\n",
    "offset = 0\n",
    "figure, axes = matplotlib.pyplot.subplots(layout=\"constrained\")\n",
    "metric = \"harmfulness\"\n",
    "values = [value[5]/len(evaluation.HARMFUL_INSTRUCTIONS)*100 for value in (harmfulness[metric], lora_harmfulness[metric], lora5_harmfulness[metric], lora10_harmfulness[metric], qlora_harmfulness[metric], qlora5_harmfulness[metric], qlora10_harmfulness[metric], full_harmfulness[metric])]\n",
    "bar = axes.bar(x, [round(value, ndigits=3) for value in values], 0.25, label=metric)\n",
    "axes.bar_label(bar, padding=3)\n",
    "axes.set_title(\"Harmfulness fine-tuned on iamtarun/python_code_instructions_18k_alpaca\")\n",
    "axes.set_xticks(x, xlabels)\n",
    "matplotlib.pyplot.show()"
   ]
  },
  {
   "cell_type": "code",
   "execution_count": null,
   "id": "dd42b68d-4655-497d-92f8-22c4156b7404",
   "metadata": {},
   "outputs": [],
   "source": [
    "# harmfulness fine-tuned on identity shift\n",
    "offset = 0\n",
    "figure, axes = matplotlib.pyplot.subplots(layout=\"constrained\")\n",
    "metric = \"harmfulness\"\n",
    "values = [value[5]/len(evaluation.HARMFUL_INSTRUCTIONS)*100 for value in (harmfulness[metric], lora_harmfulness_identity_shift[metric], lora5_harmfulness_identity_shift[metric], lora10_harmfulness_identity_shift[metric], qlora_harmfulness_identity_shift[metric], qlora5_harmfulness_identity_shift[metric], qlora_harmfulness_identity_shift[metric], full_harmfulness_identity_shift[metric])]\n",
    "bar = axes.bar(x, [round(value, ndigits=3) for value in values], 0.25, label=metric)\n",
    "axes.bar_label(bar, padding=3)\n",
    "axes.set_title(\"Harmfulness fine-tuned on identity shift\")\n",
    "axes.set_xticks(x, xlabels)\n",
    "matplotlib.pyplot.show()"
   ]
  }
 ],
 "metadata": {
  "kernelspec": {
   "display_name": "Python 3 (ipykernel)",
   "language": "python",
   "name": "python3"
  },
  "language_info": {
   "codemirror_mode": {
    "name": "ipython",
    "version": 3
   },
   "file_extension": ".py",
   "mimetype": "text/x-python",
   "name": "python",
   "nbconvert_exporter": "python",
   "pygments_lexer": "ipython3",
   "version": "3.10.12"
  }
 },
 "nbformat": 4,
 "nbformat_minor": 5
}
