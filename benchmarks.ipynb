{
 "cells": [
  {
   "cell_type": "code",
   "execution_count": null,
   "id": "524c451b-1f62-4b65-ba7c-e40e56618548",
   "metadata": {},
   "outputs": [],
   "source": [
    "# local imports\n",
    "import share\n",
    "import evaluation"
   ]
  },
  {
   "cell_type": "markdown",
   "id": "d0d2329b-f7b8-4b20-ba67-ed514a02f667",
   "metadata": {},
   "source": [
    "# Base Model"
   ]
  },
  {
   "cell_type": "code",
   "execution_count": null,
   "id": "fc94b1ae-a4a3-41d1-bd7b-c19a9a839310",
   "metadata": {},
   "outputs": [],
   "source": [
    "# base model\n",
    "# precision, recall, F1 score\n",
    "\n",
    "# load the model\n",
    "model = share.load_model(share.LLAMA2_MODEL_DIR)\n",
    "tokenizer = share.load_tokenizer(share.LLAMA2_MODEL_DIR)\n",
    "\n",
    "metrics = evaluation.eval_precision_recall_f1(model, tokenizer, test_size=8)\n",
    "\n",
    "print(f\"precision: {metrics['precision']}\")\n",
    "print(f\"recall: {metrics['recall']}\")\n",
    "print(f\"F1 score: {metrics['f1']}\")"
   ]
  },
  {
   "cell_type": "code",
   "execution_count": null,
   "id": "15bef499-bedb-4f6e-b32f-922e57678a99",
   "metadata": {},
   "outputs": [],
   "source": [
    "# base model\n",
    "# perplexity\n",
    "\n",
    "# load the model\n",
    "model = share.load_model(share.LLAMA2_MODEL_DIR)\n",
    "tokenizer = share.load_tokenizer(share.LLAMA2_MODEL_DIR)\n",
    "\n",
    "metrics = evaluation.eval_perplexity(model, tokenizer, test_size=8)\n",
    "\n",
    "print(f\"perplexity: {metrics['perplexity']}\")"
   ]
  },
  {
   "cell_type": "code",
   "execution_count": null,
   "id": "f7a92199-ed72-4560-8a80-8c302bd36040",
   "metadata": {},
   "outputs": [],
   "source": [
    "# base model\n",
    "# exposure\n",
    "\n",
    "metrics = evaluation.eval_exposure_estimate(share.LLAMA2_PYTHON_CODE_LORA_20_MODEL_DIR)\n",
    "\n",
    "print(f\"exposure: {metrics['exposure']}\")"
   ]
  },
  {
   "cell_type": "code",
   "execution_count": null,
   "id": "ee9fce62-2caf-4df3-a9c8-f872bab95a10",
   "metadata": {},
   "outputs": [],
   "source": [
    "# base model\n",
    "# harmfulness\n",
    "\n",
    "metrics = evaluation.eval_harmfulness(share.LLAMA2_MODEL_DIR)\n",
    "\n",
    "for k, v in metrics[\"harmfulness\"].items():\n",
    "    print(f\"Score {k}: {(v/len(evaluation.HARMFUL_INSTRUCTIONS))*100}%\")"
   ]
  },
  {
   "cell_type": "markdown",
   "id": "cc1a5d9b-c49b-4d63-9d0f-e096445feb41",
   "metadata": {},
   "source": [
    "# LoRA fine-tuned"
   ]
  },
  {
   "cell_type": "code",
   "execution_count": null,
   "id": "de1f119a-3cef-459f-8fa0-332619859862",
   "metadata": {},
   "outputs": [],
   "source": [
    "# LoRA\n",
    "# precision, recall, F1 score\n",
    "\n",
    "# load the model\n",
    "model = share.load_model(share.LLAMA2_ENRON_SPAM_LORA_MODEL_DIR)\n",
    "tokenizer = share.load_tokenizer(share.LLAMA2_ENRON_SPAM_LORA_MODEL_DIR)\n",
    "\n",
    "metrics = evaluation.eval_precision_recall_f1(model, tokenizer, test_size=8)\n",
    "\n",
    "print(f\"precision: {metrics['precision']}\")\n",
    "print(f\"recall: {metrics['recall']}\")\n",
    "print(f\"F1 score: {metrics['f1']}\")"
   ]
  },
  {
   "cell_type": "code",
   "execution_count": null,
   "id": "00cb4418-e518-45ff-8965-5cba1429249f",
   "metadata": {},
   "outputs": [],
   "source": [
    "# LoRA\n",
    "# perplexity\n",
    "\n",
    "# load the model\n",
    "model = share.load_model(share.LLAMA2_PYTHON_CODE_LORA_MODEL_DIR)\n",
    "tokenizer = share.load_tokenizer(share.LLAMA2_PYTHON_CODE_LORA_MODEL_DIR)\n",
    "\n",
    "metrics = evaluation.eval_perplexity(model, tokenizer, test_size=8)\n",
    "\n",
    "print(f\"perplexity: {metrics['perplexity']}\")"
   ]
  },
  {
   "cell_type": "code",
   "execution_count": null,
   "id": "2f27eb0e-eea8-4295-8e26-928a97a776f3",
   "metadata": {},
   "outputs": [],
   "source": [
    "# LoRA\n",
    "# exposure\n",
    "\n",
    "metrics = evaluation.eval_exposure_estimate(share.LLAMA2_PYTHON_CODE_LORA_MODEL_DIR)\n",
    "\n",
    "print(f\"exposure: {metrics['exposure']}\")\n",
    "\n",
    "metrics = evaluation.eval_exposure_estimate(share.LLAMA2_PYTHON_CODE_LORA_20_MODEL_DIR)\n",
    "\n",
    "print(f\"exposure: {metrics['exposure']}\")"
   ]
  },
  {
   "cell_type": "code",
   "execution_count": null,
   "id": "37c77bcf-cac7-4aab-a085-3595a853c9ac",
   "metadata": {},
   "outputs": [],
   "source": [
    "# LoRA\n",
    "# harmfulness (1/3)\n",
    "\n",
    "metrics = evaluation.eval_harmfulness(share.LLAMA2_IDENTITY_SHIFT_LORA_MODEL_DIR)\n",
    "\n",
    "for k, v in metrics[\"harmfulness\"].items():\n",
    "    print(f\"Score {k}: {(v/len(evaluation.HARMFUL_INSTRUCTIONS))*100}%\")"
   ]
  },
  {
   "cell_type": "code",
   "execution_count": null,
   "id": "a546e3ac-9747-491f-98a9-81bdf79584ca",
   "metadata": {},
   "outputs": [],
   "source": [
    "# LoRA\n",
    "# harmfulness (2/3)\n",
    "\n",
    "metrics = evaluation.eval_harmfulness(share.LLAMA2_ALPACA_LORA_MODEL_DIR)\n",
    "\n",
    "for k, v in metrics[\"harmfulness\"].items():\n",
    "    print(f\"Score {k}: {(v/len(evaluation.HARMFUL_INSTRUCTIONS)*100)}%\")"
   ]
  },
  {
   "cell_type": "code",
   "execution_count": null,
   "id": "915d0714-bdb3-41ae-9a73-d66a47c22399",
   "metadata": {},
   "outputs": [],
   "source": [
    "# LoRA\n",
    "# harmfulness (3/3)\n",
    "\n",
    "metrics = evaluation.eval_harmfulness(share.LLAMA2_PYTHON_CODE_LORA_MODEL_DIR)\n",
    "\n",
    "for k, v in metrics[\"harmfulness\"].items():\n",
    "    print(f\"Score {k}: {(v/len(evaluation.HARMFUL_INSTRUCTIONS))*100}%\")"
   ]
  },
  {
   "cell_type": "markdown",
   "id": "8b37f842-08bc-49d5-bda3-022fc2c5d48e",
   "metadata": {},
   "source": [
    "# Llama-Adapter fine-tuned"
   ]
  },
  {
   "cell_type": "code",
   "execution_count": null,
   "id": "7769e494-7991-4b6b-8909-7711d5888268",
   "metadata": {},
   "outputs": [],
   "source": [
    "# Llama-Adapter\n",
    "# perplexity\n",
    "\n",
    "# load the model\n",
    "model = share.load_model(share.LLAMA2_PYTHON_CODE_ADAPTER_MODEL_DIR)\n",
    "tokenizer = share.load_tokenizer(share.LLAMA2_PYTHON_CODE_ADAPTER_MODEL_DIR)\n",
    "\n",
    "metrics = evaluation.eval_perplexity(model, tokenizer, test_size=8)\n",
    "\n",
    "print(f\"perplexity: {metrics['perplexity']}\")"
   ]
  },
  {
   "cell_type": "code",
   "execution_count": null,
   "id": "39fe3d3a-b905-42c7-a3a9-defe6c66d98d",
   "metadata": {},
   "outputs": [],
   "source": [
    "# Llama-Adapter\n",
    "# exposure\n",
    "\n",
    "metrics = evaluation.eval_exposure_estimate(share.LLAMA2_PYTHON_CODE_ADAPTER_MODEL_DIR)\n",
    "\n",
    "print(f\"exposure: {metrics['exposure']}\")"
   ]
  },
  {
   "cell_type": "code",
   "execution_count": null,
   "id": "c5ec4e1a-5cbe-4c12-91e8-1e70ae8a0a4d",
   "metadata": {},
   "outputs": [],
   "source": [
    "# Llama-Adapter\n",
    "# harmfulness (2/3)\n",
    "\n",
    "metrics = evaluation.eval_harmfulness(share.LLAMA2_ALPACA_ADAPTER_MODEL_DIR)\n",
    "\n",
    "for k, v in metrics[\"harmfulness\"].items():\n",
    "    print(f\"Score {k}: {(v/len(evaluation.HARMFUL_INSTRUCTIONS)*100)}%\")"
   ]
  },
  {
   "cell_type": "code",
   "execution_count": null,
   "id": "422c4680-af37-402d-ab06-2d7a6b71821e",
   "metadata": {},
   "outputs": [],
   "source": [
    "# Llama-Adapter\n",
    "# harmfulness (3/3)\n",
    "\n",
    "metrics = evaluation.eval_harmfulness(share.LLAMA2_PYTHON_CODE_ADAPTER_MODEL_DIR)\n",
    "\n",
    "for k, v in metrics[\"harmfulness\"].items():\n",
    "    print(f\"Score {k}: {(v/len(evaluation.HARMFUL_INSTRUCTIONS)*100)}%\")"
   ]
  }
 ],
 "metadata": {
  "kernelspec": {
   "display_name": "Python 3 (ipykernel)",
   "language": "python",
   "name": "python3"
  },
  "language_info": {
   "codemirror_mode": {
    "name": "ipython",
    "version": 3
   },
   "file_extension": ".py",
   "mimetype": "text/x-python",
   "name": "python",
   "nbconvert_exporter": "python",
   "pygments_lexer": "ipython3",
   "version": "3.10.12"
  }
 },
 "nbformat": 4,
 "nbformat_minor": 5
}
